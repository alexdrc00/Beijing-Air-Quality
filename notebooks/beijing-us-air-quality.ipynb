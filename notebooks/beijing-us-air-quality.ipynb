{
 "cells": [
  {
   "cell_type": "markdown",
   "metadata": {},
   "source": [
    "## Modules"
   ]
  },
  {
   "cell_type": "code",
   "execution_count": 21,
   "metadata": {},
   "outputs": [],
   "source": [
    "import os\n",
    "import requests\n",
    "import zipfile\n",
    "import math\n",
    "import datetime\n",
    "import matplotlib.pyplot as plt\n",
    "import numpy as np\n",
    "import pandas as pd\n",
    "import plotly.graph_objects as go\n",
    "\n",
    "from sklearn.preprocessing import LabelEncoder, MinMaxScaler\n",
    "from sklearn.metrics import mean_squared_error, mean_absolute_error, r2_score\n",
    "from keras.models import Sequential\n",
    "from keras.layers import Dense, Dropout\n",
    "from keras.layers import LSTM\n",
    "from datetime import datetime\n"
   ]
  },
  {
   "cell_type": "markdown",
   "metadata": {},
   "source": [
    "## Loading & Cleaning Data\n",
    "\n",
    "By taking a quick look at the dataframe we can observe some cleaning is required. The variable names are confusing as they are so we should rename them, variable 'No' serves no real purpose we could drop it, we need to parse the date, and there seems to be NaN, for the moment we will fill these with 0."
   ]
  },
  {
   "cell_type": "code",
   "execution_count": 34,
   "metadata": {},
   "outputs": [
    {
     "data": {
      "text/html": [
       "<div>\n",
       "<style scoped>\n",
       "    .dataframe tbody tr th:only-of-type {\n",
       "        vertical-align: middle;\n",
       "    }\n",
       "\n",
       "    .dataframe tbody tr th {\n",
       "        vertical-align: top;\n",
       "    }\n",
       "\n",
       "    .dataframe thead th {\n",
       "        text-align: right;\n",
       "    }\n",
       "</style>\n",
       "<table border=\"1\" class=\"dataframe\">\n",
       "  <thead>\n",
       "    <tr style=\"text-align: right;\">\n",
       "      <th></th>\n",
       "      <th>No</th>\n",
       "      <th>year</th>\n",
       "      <th>month</th>\n",
       "      <th>day</th>\n",
       "      <th>hour</th>\n",
       "      <th>pm2.5</th>\n",
       "      <th>DEWP</th>\n",
       "      <th>TEMP</th>\n",
       "      <th>PRES</th>\n",
       "      <th>cbwd</th>\n",
       "      <th>Iws</th>\n",
       "      <th>Is</th>\n",
       "      <th>Ir</th>\n",
       "    </tr>\n",
       "  </thead>\n",
       "  <tbody>\n",
       "    <tr>\n",
       "      <th>0</th>\n",
       "      <td>1</td>\n",
       "      <td>2010</td>\n",
       "      <td>1</td>\n",
       "      <td>1</td>\n",
       "      <td>0</td>\n",
       "      <td>NaN</td>\n",
       "      <td>-21</td>\n",
       "      <td>-11.0</td>\n",
       "      <td>1021.0</td>\n",
       "      <td>NW</td>\n",
       "      <td>1.79</td>\n",
       "      <td>0</td>\n",
       "      <td>0</td>\n",
       "    </tr>\n",
       "    <tr>\n",
       "      <th>1</th>\n",
       "      <td>2</td>\n",
       "      <td>2010</td>\n",
       "      <td>1</td>\n",
       "      <td>1</td>\n",
       "      <td>1</td>\n",
       "      <td>NaN</td>\n",
       "      <td>-21</td>\n",
       "      <td>-12.0</td>\n",
       "      <td>1020.0</td>\n",
       "      <td>NW</td>\n",
       "      <td>4.92</td>\n",
       "      <td>0</td>\n",
       "      <td>0</td>\n",
       "    </tr>\n",
       "    <tr>\n",
       "      <th>2</th>\n",
       "      <td>3</td>\n",
       "      <td>2010</td>\n",
       "      <td>1</td>\n",
       "      <td>1</td>\n",
       "      <td>2</td>\n",
       "      <td>NaN</td>\n",
       "      <td>-21</td>\n",
       "      <td>-11.0</td>\n",
       "      <td>1019.0</td>\n",
       "      <td>NW</td>\n",
       "      <td>6.71</td>\n",
       "      <td>0</td>\n",
       "      <td>0</td>\n",
       "    </tr>\n",
       "    <tr>\n",
       "      <th>3</th>\n",
       "      <td>4</td>\n",
       "      <td>2010</td>\n",
       "      <td>1</td>\n",
       "      <td>1</td>\n",
       "      <td>3</td>\n",
       "      <td>NaN</td>\n",
       "      <td>-21</td>\n",
       "      <td>-14.0</td>\n",
       "      <td>1019.0</td>\n",
       "      <td>NW</td>\n",
       "      <td>9.84</td>\n",
       "      <td>0</td>\n",
       "      <td>0</td>\n",
       "    </tr>\n",
       "    <tr>\n",
       "      <th>4</th>\n",
       "      <td>5</td>\n",
       "      <td>2010</td>\n",
       "      <td>1</td>\n",
       "      <td>1</td>\n",
       "      <td>4</td>\n",
       "      <td>NaN</td>\n",
       "      <td>-20</td>\n",
       "      <td>-12.0</td>\n",
       "      <td>1018.0</td>\n",
       "      <td>NW</td>\n",
       "      <td>12.97</td>\n",
       "      <td>0</td>\n",
       "      <td>0</td>\n",
       "    </tr>\n",
       "  </tbody>\n",
       "</table>\n",
       "</div>"
      ],
      "text/plain": [
       "   No  year  month  day  hour  pm2.5  DEWP  TEMP    PRES cbwd    Iws  Is  Ir\n",
       "0   1  2010      1    1     0    NaN   -21 -11.0  1021.0   NW   1.79   0   0\n",
       "1   2  2010      1    1     1    NaN   -21 -12.0  1020.0   NW   4.92   0   0\n",
       "2   3  2010      1    1     2    NaN   -21 -11.0  1019.0   NW   6.71   0   0\n",
       "3   4  2010      1    1     3    NaN   -21 -14.0  1019.0   NW   9.84   0   0\n",
       "4   5  2010      1    1     4    NaN   -20 -12.0  1018.0   NW  12.97   0   0"
      ]
     },
     "execution_count": 34,
     "metadata": {},
     "output_type": "execute_result"
    }
   ],
   "source": [
    "data_dir = os.path.join(os.getcwd(), '../data/us_ambassy')\n",
    "data_file = 'PRSA_data_2010.1.1-2014.12.31.csv'\n",
    "file_path = os.path.join(data_dir, data_file)\n",
    "\n",
    "# Download data if not in local already\n",
    "if not os.path.isfile(os.path.join(data_dir, data_file)):   \n",
    "    url = 'https://archive.ics.uci.edu/static/public/381/beijing+pm2+5+data.zip'\n",
    "\n",
    "    response = requests.get(url)\n",
    "    if response.status_code == 200:\n",
    "        if not os.path.exists(data_dir):\n",
    "            os.makedirs(data_dir)\n",
    "\n",
    "        zip_file_path = os.path.join(data_dir, 'data.zip')\n",
    "        with open(zip_file_path, 'wb') as f:\n",
    "            f.write(response.content)\n",
    "\n",
    "        with zipfile.ZipFile(zip_file_path, 'r') as zip_ref:\n",
    "            zip_ref.extractall(data_dir)\n",
    "\n",
    "        os.remove(zip_file_path)\n",
    "\n",
    "# Read data\n",
    "df = pd.read_csv(file_path)\n",
    "df.head()"
   ]
  },
  {
   "cell_type": "code",
   "execution_count": 48,
   "metadata": {},
   "outputs": [
    {
     "name": "stdout",
     "output_type": "stream",
     "text": [
      "Sum of missing values:\n",
      "No          0\n",
      "year        0\n",
      "month       0\n",
      "day         0\n",
      "hour        0\n",
      "pm2.5    2067\n",
      "DEWP        0\n",
      "TEMP        0\n",
      "PRES        0\n",
      "cbwd        0\n",
      "Iws         0\n",
      "Is          0\n",
      "Ir          0\n",
      "dtype: int64\n",
      "\n",
      "DF Shape: (43824, 13)\n",
      "# of Null Values: 2\n"
     ]
    }
   ],
   "source": [
    "print('Sum of missing values:')\n",
    "print(df.isnull().sum()) # We confirm the missing data\n",
    "print('\\nDF Shape:',df.shape) # Checking size of dataframe\n",
    "print('# of Null Values:',(df['pm2.5'] == 0).sum()) # Checking if there are null values since we will fillna with zero, and want to make that identifiable as null. There is just two which wont be relevant"
   ]
  },
  {
   "cell_type": "markdown",
   "metadata": {},
   "source": [
    "We are missing the batch of pm2.5 data points from the first day we will drop these in the cleaning"
   ]
  },
  {
   "cell_type": "code",
   "execution_count": 36,
   "metadata": {},
   "outputs": [
    {
     "data": {
      "application/vnd.plotly.v1+json": {
       "config": {
        "plotlyServerURL": "https://plot.ly"
       },
       "data": [
        {
         "type": "scatter",
         "y": [
          null,
          null,
          null,
          null,
          null,
          null,
          null,
          null,
          null,
          null,
          null,
          null,
          null,
          null,
          null,
          null,
          null,
          null,
          null,
          null,
          null,
          null,
          null,
          null,
          129,
          148,
          159,
          181,
          138,
          109,
          105,
          124,
          120,
          132,
          140,
          152,
          148,
          164,
          158,
          154,
          159,
          164,
          170,
          149,
          154,
          164,
          156,
          126,
          90,
          63,
          65,
          55,
          65,
          83,
          91,
          86,
          82,
          86,
          78,
          98,
          107,
          90,
          96,
          95,
          86,
          70,
          61,
          53,
          71,
          72,
          76,
          73,
          79,
          58,
          25,
          26,
          28,
          26,
          20,
          29,
          26,
          27,
          27,
          25,
          29,
          32,
          28,
          29,
          30,
          30,
          28,
          26,
          31,
          33,
          29,
          31,
          30,
          34,
          27,
          25,
          28,
          28,
          27,
          27,
          27,
          29,
          36,
          30,
          27,
          39,
          41,
          33,
          50,
          56,
          59,
          60,
          84,
          106,
          66,
          50,
          56,
          77,
          50,
          44,
          27,
          28,
          21,
          25,
          20,
          29,
          34,
          42,
          28,
          36,
          48,
          49,
          52,
          56,
          96,
          75,
          105,
          132,
          93,
          131,
          127,
          130,
          43,
          37,
          30,
          28,
          24,
          23,
          24,
          27,
          40,
          42,
          42,
          55,
          52,
          51,
          57,
          50,
          54,
          67,
          106,
          159,
          198,
          190,
          210,
          195,
          275,
          164,
          110,
          100,
          81,
          71,
          66,
          92,
          135,
          155,
          198,
          250,
          200,
          231,
          250,
          212,
          219,
          227,
          226,
          225,
          168,
          169,
          165,
          159,
          167,
          196,
          169,
          155,
          119,
          106,
          93,
          84,
          73,
          66,
          40,
          49,
          50,
          49,
          41,
          37,
          45,
          44,
          54,
          50,
          47,
          66,
          75,
          82,
          66,
          83,
          62,
          40,
          23,
          25,
          27,
          35,
          50,
          70,
          75,
          58,
          70,
          68,
          71,
          88,
          84,
          83,
          66,
          27,
          24,
          22,
          23,
          27,
          23,
          17,
          17,
          16,
          16,
          20,
          20,
          18,
          25,
          26,
          27,
          28,
          15,
          24,
          13,
          13,
          13,
          17,
          20,
          27,
          20,
          15,
          21,
          21,
          37,
          26,
          15,
          9,
          11,
          11,
          16,
          13,
          15,
          21,
          24,
          22,
          22,
          22,
          19,
          23,
          25,
          25,
          31,
          25,
          22,
          22,
          15,
          16,
          11,
          11,
          12,
          11,
          12,
          27,
          28,
          34,
          33,
          36,
          26,
          49,
          52,
          47,
          47,
          39,
          59,
          76,
          96,
          95,
          68,
          65,
          75,
          257,
          174,
          164,
          161,
          137,
          92,
          64,
          87,
          87,
          84,
          95,
          79,
          75,
          79,
          86,
          72,
          89,
          94,
          69,
          49,
          33,
          27,
          20,
          36,
          37,
          30,
          18,
          21,
          13,
          23,
          26,
          27,
          30,
          28,
          26,
          26,
          31,
          35,
          36,
          37,
          64,
          83,
          91,
          90,
          102,
          94,
          87,
          141,
          211,
          242,
          271,
          249,
          200,
          147,
          114,
          102,
          108,
          135,
          120,
          148,
          127,
          128,
          140,
          148,
          150,
          154,
          197,
          235,
          261,
          269,
          266,
          263,
          241,
          205,
          160,
          150,
          148,
          208,
          209,
          183,
          161,
          182,
          230,
          170,
          172,
          154,
          166,
          177,
          191,
          212,
          250,
          268,
          317,
          291,
          313,
          282,
          282,
          303,
          349,
          407,
          361,
          234,
          149,
          147,
          184,
          161,
          137,
          146,
          144,
          154,
          173,
          188,
          203,
          233,
          408,
          435,
          403,
          360,
          402,
          358,
          383,
          332,
          274,
          256,
          302,
          330,
          367,
          297,
          331,
          323,
          339,
          301,
          310,
          305,
          313,
          336,
          357,
          485,
          426,
          403,
          374,
          333,
          343,
          364,
          389,
          368,
          267,
          71,
          81,
          51,
          49,
          44,
          45,
          35,
          29,
          27,
          29,
          16,
          23,
          28,
          22,
          11,
          25,
          16,
          20,
          20,
          18,
          18,
          17,
          17,
          17,
          15,
          19,
          16,
          18,
          18,
          18,
          26,
          26,
          25,
          24,
          15,
          17,
          15,
          21,
          40,
          51,
          45,
          61,
          72,
          38,
          35,
          29,
          26,
          18,
          15,
          15,
          22,
          21,
          19,
          22,
          25,
          22,
          26,
          32,
          30,
          32,
          30,
          32,
          37,
          49,
          47,
          39,
          35,
          48,
          49,
          24,
          23,
          20,
          19,
          16,
          22,
          24,
          24,
          41,
          23,
          19,
          15,
          19,
          17,
          17,
          22,
          null,
          null,
          null,
          null,
          null,
          null,
          null,
          null,
          null,
          null,
          null,
          null,
          null,
          null,
          null,
          null,
          null,
          null,
          null,
          null,
          null,
          null,
          null,
          null,
          null,
          null,
          null,
          null,
          null,
          null,
          null,
          null,
          null,
          null,
          null,
          null,
          null,
          null,
          null,
          null,
          null,
          null,
          null,
          null,
          null,
          null,
          null,
          null,
          null,
          null,
          null,
          null,
          null,
          null,
          null,
          null,
          null,
          null,
          null,
          null,
          null,
          null,
          null,
          null,
          null,
          null,
          null,
          88,
          85,
          90,
          127,
          144,
          203,
          199,
          231,
          274,
          340,
          298,
          268,
          299,
          300,
          240,
          213,
          171,
          153,
          153,
          140,
          147,
          158,
          153,
          154,
          143,
          90,
          55,
          52,
          41,
          29,
          37,
          49,
          56,
          38,
          37,
          28,
          20,
          22,
          27,
          34,
          27,
          32,
          28,
          28,
          18,
          17,
          16,
          18,
          16,
          12,
          13,
          23,
          21,
          13,
          14,
          23,
          16,
          25,
          20,
          25,
          19,
          24,
          25,
          20,
          24,
          17,
          10,
          11,
          16,
          20,
          13,
          12,
          12,
          12,
          12,
          31,
          36,
          42,
          52,
          26,
          24,
          25,
          43,
          47,
          61,
          66,
          65,
          70,
          36,
          37,
          22,
          24,
          29,
          35,
          35,
          33,
          32,
          25,
          16,
          26,
          32,
          36,
          37,
          45,
          71,
          67,
          69,
          94,
          85,
          35,
          26,
          24,
          20,
          16,
          18,
          19,
          22,
          17,
          18,
          11,
          11,
          16,
          18,
          17,
          19,
          26,
          24,
          54,
          71,
          129,
          145,
          101,
          65,
          70,
          67,
          76,
          76,
          68,
          73,
          73,
          64,
          53,
          72,
          78,
          72,
          56,
          54,
          40,
          49,
          63,
          66,
          64,
          63,
          65,
          64,
          64,
          62,
          56,
          87,
          72,
          104,
          97,
          96,
          86,
          85,
          92,
          55,
          36,
          27,
          25,
          28,
          32,
          35,
          43,
          70,
          83,
          66,
          70,
          80,
          88,
          69,
          71,
          62,
          73,
          107,
          94,
          121,
          132,
          161,
          120,
          72,
          58,
          34,
          14,
          17,
          15,
          23,
          34,
          96,
          87,
          87,
          95,
          105,
          114,
          103,
          99,
          102,
          104,
          78,
          33,
          29,
          27,
          27,
          26,
          33,
          29,
          31,
          28,
          28,
          61,
          64,
          80,
          91,
          79,
          48,
          59,
          82,
          63,
          48,
          54,
          42,
          47,
          87,
          105,
          90,
          101,
          126,
          114,
          103,
          114,
          100,
          72,
          68,
          72,
          71,
          80,
          70,
          63,
          67,
          62,
          69,
          58,
          51,
          51,
          54,
          45,
          47,
          85,
          78,
          68,
          64,
          65,
          80,
          74,
          93,
          77,
          67,
          84,
          77,
          83,
          82,
          100,
          189,
          99,
          71,
          43,
          64,
          68,
          69,
          65,
          71,
          77,
          81,
          88,
          90,
          92,
          88,
          80,
          100,
          105,
          118,
          125,
          141,
          152,
          164,
          147,
          162,
          157,
          156,
          160,
          178,
          187,
          181,
          185,
          197,
          180,
          172,
          166,
          136,
          133,
          140,
          159,
          169,
          170,
          184,
          163,
          140,
          144,
          166,
          196,
          227,
          210,
          233,
          258,
          247,
          230,
          273,
          253,
          254,
          241,
          229,
          199,
          193,
          207,
          176,
          91,
          58,
          39,
          50,
          51,
          49,
          54,
          153,
          181,
          181,
          182,
          156,
          27,
          16,
          22,
          21,
          6,
          8,
          8,
          8,
          10,
          9,
          20,
          14,
          16,
          14,
          10,
          7,
          8,
          12,
          15,
          8,
          11,
          18,
          16,
          11,
          10,
          11,
          10,
          10,
          12,
          12,
          10,
          10,
          9,
          9,
          11,
          12,
          12,
          12,
          21,
          18,
          13
         ]
        }
       ],
       "layout": {
        "template": {
         "data": {
          "bar": [
           {
            "error_x": {
             "color": "#2a3f5f"
            },
            "error_y": {
             "color": "#2a3f5f"
            },
            "marker": {
             "line": {
              "color": "#E5ECF6",
              "width": 0.5
             },
             "pattern": {
              "fillmode": "overlay",
              "size": 10,
              "solidity": 0.2
             }
            },
            "type": "bar"
           }
          ],
          "barpolar": [
           {
            "marker": {
             "line": {
              "color": "#E5ECF6",
              "width": 0.5
             },
             "pattern": {
              "fillmode": "overlay",
              "size": 10,
              "solidity": 0.2
             }
            },
            "type": "barpolar"
           }
          ],
          "carpet": [
           {
            "aaxis": {
             "endlinecolor": "#2a3f5f",
             "gridcolor": "white",
             "linecolor": "white",
             "minorgridcolor": "white",
             "startlinecolor": "#2a3f5f"
            },
            "baxis": {
             "endlinecolor": "#2a3f5f",
             "gridcolor": "white",
             "linecolor": "white",
             "minorgridcolor": "white",
             "startlinecolor": "#2a3f5f"
            },
            "type": "carpet"
           }
          ],
          "choropleth": [
           {
            "colorbar": {
             "outlinewidth": 0,
             "ticks": ""
            },
            "type": "choropleth"
           }
          ],
          "contour": [
           {
            "colorbar": {
             "outlinewidth": 0,
             "ticks": ""
            },
            "colorscale": [
             [
              0,
              "#0d0887"
             ],
             [
              0.1111111111111111,
              "#46039f"
             ],
             [
              0.2222222222222222,
              "#7201a8"
             ],
             [
              0.3333333333333333,
              "#9c179e"
             ],
             [
              0.4444444444444444,
              "#bd3786"
             ],
             [
              0.5555555555555556,
              "#d8576b"
             ],
             [
              0.6666666666666666,
              "#ed7953"
             ],
             [
              0.7777777777777778,
              "#fb9f3a"
             ],
             [
              0.8888888888888888,
              "#fdca26"
             ],
             [
              1,
              "#f0f921"
             ]
            ],
            "type": "contour"
           }
          ],
          "contourcarpet": [
           {
            "colorbar": {
             "outlinewidth": 0,
             "ticks": ""
            },
            "type": "contourcarpet"
           }
          ],
          "heatmap": [
           {
            "colorbar": {
             "outlinewidth": 0,
             "ticks": ""
            },
            "colorscale": [
             [
              0,
              "#0d0887"
             ],
             [
              0.1111111111111111,
              "#46039f"
             ],
             [
              0.2222222222222222,
              "#7201a8"
             ],
             [
              0.3333333333333333,
              "#9c179e"
             ],
             [
              0.4444444444444444,
              "#bd3786"
             ],
             [
              0.5555555555555556,
              "#d8576b"
             ],
             [
              0.6666666666666666,
              "#ed7953"
             ],
             [
              0.7777777777777778,
              "#fb9f3a"
             ],
             [
              0.8888888888888888,
              "#fdca26"
             ],
             [
              1,
              "#f0f921"
             ]
            ],
            "type": "heatmap"
           }
          ],
          "heatmapgl": [
           {
            "colorbar": {
             "outlinewidth": 0,
             "ticks": ""
            },
            "colorscale": [
             [
              0,
              "#0d0887"
             ],
             [
              0.1111111111111111,
              "#46039f"
             ],
             [
              0.2222222222222222,
              "#7201a8"
             ],
             [
              0.3333333333333333,
              "#9c179e"
             ],
             [
              0.4444444444444444,
              "#bd3786"
             ],
             [
              0.5555555555555556,
              "#d8576b"
             ],
             [
              0.6666666666666666,
              "#ed7953"
             ],
             [
              0.7777777777777778,
              "#fb9f3a"
             ],
             [
              0.8888888888888888,
              "#fdca26"
             ],
             [
              1,
              "#f0f921"
             ]
            ],
            "type": "heatmapgl"
           }
          ],
          "histogram": [
           {
            "marker": {
             "pattern": {
              "fillmode": "overlay",
              "size": 10,
              "solidity": 0.2
             }
            },
            "type": "histogram"
           }
          ],
          "histogram2d": [
           {
            "colorbar": {
             "outlinewidth": 0,
             "ticks": ""
            },
            "colorscale": [
             [
              0,
              "#0d0887"
             ],
             [
              0.1111111111111111,
              "#46039f"
             ],
             [
              0.2222222222222222,
              "#7201a8"
             ],
             [
              0.3333333333333333,
              "#9c179e"
             ],
             [
              0.4444444444444444,
              "#bd3786"
             ],
             [
              0.5555555555555556,
              "#d8576b"
             ],
             [
              0.6666666666666666,
              "#ed7953"
             ],
             [
              0.7777777777777778,
              "#fb9f3a"
             ],
             [
              0.8888888888888888,
              "#fdca26"
             ],
             [
              1,
              "#f0f921"
             ]
            ],
            "type": "histogram2d"
           }
          ],
          "histogram2dcontour": [
           {
            "colorbar": {
             "outlinewidth": 0,
             "ticks": ""
            },
            "colorscale": [
             [
              0,
              "#0d0887"
             ],
             [
              0.1111111111111111,
              "#46039f"
             ],
             [
              0.2222222222222222,
              "#7201a8"
             ],
             [
              0.3333333333333333,
              "#9c179e"
             ],
             [
              0.4444444444444444,
              "#bd3786"
             ],
             [
              0.5555555555555556,
              "#d8576b"
             ],
             [
              0.6666666666666666,
              "#ed7953"
             ],
             [
              0.7777777777777778,
              "#fb9f3a"
             ],
             [
              0.8888888888888888,
              "#fdca26"
             ],
             [
              1,
              "#f0f921"
             ]
            ],
            "type": "histogram2dcontour"
           }
          ],
          "mesh3d": [
           {
            "colorbar": {
             "outlinewidth": 0,
             "ticks": ""
            },
            "type": "mesh3d"
           }
          ],
          "parcoords": [
           {
            "line": {
             "colorbar": {
              "outlinewidth": 0,
              "ticks": ""
             }
            },
            "type": "parcoords"
           }
          ],
          "pie": [
           {
            "automargin": true,
            "type": "pie"
           }
          ],
          "scatter": [
           {
            "fillpattern": {
             "fillmode": "overlay",
             "size": 10,
             "solidity": 0.2
            },
            "type": "scatter"
           }
          ],
          "scatter3d": [
           {
            "line": {
             "colorbar": {
              "outlinewidth": 0,
              "ticks": ""
             }
            },
            "marker": {
             "colorbar": {
              "outlinewidth": 0,
              "ticks": ""
             }
            },
            "type": "scatter3d"
           }
          ],
          "scattercarpet": [
           {
            "marker": {
             "colorbar": {
              "outlinewidth": 0,
              "ticks": ""
             }
            },
            "type": "scattercarpet"
           }
          ],
          "scattergeo": [
           {
            "marker": {
             "colorbar": {
              "outlinewidth": 0,
              "ticks": ""
             }
            },
            "type": "scattergeo"
           }
          ],
          "scattergl": [
           {
            "marker": {
             "colorbar": {
              "outlinewidth": 0,
              "ticks": ""
             }
            },
            "type": "scattergl"
           }
          ],
          "scattermapbox": [
           {
            "marker": {
             "colorbar": {
              "outlinewidth": 0,
              "ticks": ""
             }
            },
            "type": "scattermapbox"
           }
          ],
          "scatterpolar": [
           {
            "marker": {
             "colorbar": {
              "outlinewidth": 0,
              "ticks": ""
             }
            },
            "type": "scatterpolar"
           }
          ],
          "scatterpolargl": [
           {
            "marker": {
             "colorbar": {
              "outlinewidth": 0,
              "ticks": ""
             }
            },
            "type": "scatterpolargl"
           }
          ],
          "scatterternary": [
           {
            "marker": {
             "colorbar": {
              "outlinewidth": 0,
              "ticks": ""
             }
            },
            "type": "scatterternary"
           }
          ],
          "surface": [
           {
            "colorbar": {
             "outlinewidth": 0,
             "ticks": ""
            },
            "colorscale": [
             [
              0,
              "#0d0887"
             ],
             [
              0.1111111111111111,
              "#46039f"
             ],
             [
              0.2222222222222222,
              "#7201a8"
             ],
             [
              0.3333333333333333,
              "#9c179e"
             ],
             [
              0.4444444444444444,
              "#bd3786"
             ],
             [
              0.5555555555555556,
              "#d8576b"
             ],
             [
              0.6666666666666666,
              "#ed7953"
             ],
             [
              0.7777777777777778,
              "#fb9f3a"
             ],
             [
              0.8888888888888888,
              "#fdca26"
             ],
             [
              1,
              "#f0f921"
             ]
            ],
            "type": "surface"
           }
          ],
          "table": [
           {
            "cells": {
             "fill": {
              "color": "#EBF0F8"
             },
             "line": {
              "color": "white"
             }
            },
            "header": {
             "fill": {
              "color": "#C8D4E3"
             },
             "line": {
              "color": "white"
             }
            },
            "type": "table"
           }
          ]
         },
         "layout": {
          "annotationdefaults": {
           "arrowcolor": "#2a3f5f",
           "arrowhead": 0,
           "arrowwidth": 1
          },
          "autotypenumbers": "strict",
          "coloraxis": {
           "colorbar": {
            "outlinewidth": 0,
            "ticks": ""
           }
          },
          "colorscale": {
           "diverging": [
            [
             0,
             "#8e0152"
            ],
            [
             0.1,
             "#c51b7d"
            ],
            [
             0.2,
             "#de77ae"
            ],
            [
             0.3,
             "#f1b6da"
            ],
            [
             0.4,
             "#fde0ef"
            ],
            [
             0.5,
             "#f7f7f7"
            ],
            [
             0.6,
             "#e6f5d0"
            ],
            [
             0.7,
             "#b8e186"
            ],
            [
             0.8,
             "#7fbc41"
            ],
            [
             0.9,
             "#4d9221"
            ],
            [
             1,
             "#276419"
            ]
           ],
           "sequential": [
            [
             0,
             "#0d0887"
            ],
            [
             0.1111111111111111,
             "#46039f"
            ],
            [
             0.2222222222222222,
             "#7201a8"
            ],
            [
             0.3333333333333333,
             "#9c179e"
            ],
            [
             0.4444444444444444,
             "#bd3786"
            ],
            [
             0.5555555555555556,
             "#d8576b"
            ],
            [
             0.6666666666666666,
             "#ed7953"
            ],
            [
             0.7777777777777778,
             "#fb9f3a"
            ],
            [
             0.8888888888888888,
             "#fdca26"
            ],
            [
             1,
             "#f0f921"
            ]
           ],
           "sequentialminus": [
            [
             0,
             "#0d0887"
            ],
            [
             0.1111111111111111,
             "#46039f"
            ],
            [
             0.2222222222222222,
             "#7201a8"
            ],
            [
             0.3333333333333333,
             "#9c179e"
            ],
            [
             0.4444444444444444,
             "#bd3786"
            ],
            [
             0.5555555555555556,
             "#d8576b"
            ],
            [
             0.6666666666666666,
             "#ed7953"
            ],
            [
             0.7777777777777778,
             "#fb9f3a"
            ],
            [
             0.8888888888888888,
             "#fdca26"
            ],
            [
             1,
             "#f0f921"
            ]
           ]
          },
          "colorway": [
           "#636efa",
           "#EF553B",
           "#00cc96",
           "#ab63fa",
           "#FFA15A",
           "#19d3f3",
           "#FF6692",
           "#B6E880",
           "#FF97FF",
           "#FECB52"
          ],
          "font": {
           "color": "#2a3f5f"
          },
          "geo": {
           "bgcolor": "white",
           "lakecolor": "white",
           "landcolor": "#E5ECF6",
           "showlakes": true,
           "showland": true,
           "subunitcolor": "white"
          },
          "hoverlabel": {
           "align": "left"
          },
          "hovermode": "closest",
          "mapbox": {
           "style": "light"
          },
          "paper_bgcolor": "white",
          "plot_bgcolor": "#E5ECF6",
          "polar": {
           "angularaxis": {
            "gridcolor": "white",
            "linecolor": "white",
            "ticks": ""
           },
           "bgcolor": "#E5ECF6",
           "radialaxis": {
            "gridcolor": "white",
            "linecolor": "white",
            "ticks": ""
           }
          },
          "scene": {
           "xaxis": {
            "backgroundcolor": "#E5ECF6",
            "gridcolor": "white",
            "gridwidth": 2,
            "linecolor": "white",
            "showbackground": true,
            "ticks": "",
            "zerolinecolor": "white"
           },
           "yaxis": {
            "backgroundcolor": "#E5ECF6",
            "gridcolor": "white",
            "gridwidth": 2,
            "linecolor": "white",
            "showbackground": true,
            "ticks": "",
            "zerolinecolor": "white"
           },
           "zaxis": {
            "backgroundcolor": "#E5ECF6",
            "gridcolor": "white",
            "gridwidth": 2,
            "linecolor": "white",
            "showbackground": true,
            "ticks": "",
            "zerolinecolor": "white"
           }
          },
          "shapedefaults": {
           "line": {
            "color": "#2a3f5f"
           }
          },
          "ternary": {
           "aaxis": {
            "gridcolor": "white",
            "linecolor": "white",
            "ticks": ""
           },
           "baxis": {
            "gridcolor": "white",
            "linecolor": "white",
            "ticks": ""
           },
           "bgcolor": "#E5ECF6",
           "caxis": {
            "gridcolor": "white",
            "linecolor": "white",
            "ticks": ""
           }
          },
          "title": {
           "x": 0.05
          },
          "xaxis": {
           "automargin": true,
           "gridcolor": "white",
           "linecolor": "white",
           "ticks": "",
           "title": {
            "standoff": 15
           },
           "zerolinecolor": "white",
           "zerolinewidth": 2
          },
          "yaxis": {
           "automargin": true,
           "gridcolor": "white",
           "linecolor": "white",
           "ticks": "",
           "title": {
            "standoff": 15
           },
           "zerolinecolor": "white",
           "zerolinewidth": 2
          }
         }
        },
        "title": {
         "text": "PM2.5 First 1k samples"
        },
        "yaxis": {
         "title": {
          "text": "Value"
         }
        }
       }
      }
     },
     "metadata": {},
     "output_type": "display_data"
    }
   ],
   "source": [
    "# First 1k points\n",
    "fig = go.Figure(data=go.Scatter(y=df['pm2.5'][:1000]))\n",
    "fig.update_layout(title='PM2.5 First 1k samples', yaxis_title='Value')\n",
    "fig.show()"
   ]
  },
  {
   "cell_type": "code",
   "execution_count": 30,
   "metadata": {},
   "outputs": [
    {
     "data": {
      "text/html": [
       "<div>\n",
       "<style scoped>\n",
       "    .dataframe tbody tr th:only-of-type {\n",
       "        vertical-align: middle;\n",
       "    }\n",
       "\n",
       "    .dataframe tbody tr th {\n",
       "        vertical-align: top;\n",
       "    }\n",
       "\n",
       "    .dataframe thead th {\n",
       "        text-align: right;\n",
       "    }\n",
       "</style>\n",
       "<table border=\"1\" class=\"dataframe\">\n",
       "  <thead>\n",
       "    <tr style=\"text-align: right;\">\n",
       "      <th></th>\n",
       "      <th>pollution</th>\n",
       "      <th>dew</th>\n",
       "      <th>temp</th>\n",
       "      <th>pressure</th>\n",
       "      <th>w_dir</th>\n",
       "      <th>w_speed</th>\n",
       "      <th>snow</th>\n",
       "      <th>rain</th>\n",
       "    </tr>\n",
       "  </thead>\n",
       "  <tbody>\n",
       "    <tr>\n",
       "      <th>2010-01-02 00:00:00</th>\n",
       "      <td>129.0</td>\n",
       "      <td>-16</td>\n",
       "      <td>-4.0</td>\n",
       "      <td>1020.0</td>\n",
       "      <td>SE</td>\n",
       "      <td>1.79</td>\n",
       "      <td>0</td>\n",
       "      <td>0</td>\n",
       "    </tr>\n",
       "    <tr>\n",
       "      <th>2010-01-02 01:00:00</th>\n",
       "      <td>148.0</td>\n",
       "      <td>-15</td>\n",
       "      <td>-4.0</td>\n",
       "      <td>1020.0</td>\n",
       "      <td>SE</td>\n",
       "      <td>2.68</td>\n",
       "      <td>0</td>\n",
       "      <td>0</td>\n",
       "    </tr>\n",
       "    <tr>\n",
       "      <th>2010-01-02 02:00:00</th>\n",
       "      <td>159.0</td>\n",
       "      <td>-11</td>\n",
       "      <td>-5.0</td>\n",
       "      <td>1021.0</td>\n",
       "      <td>SE</td>\n",
       "      <td>3.57</td>\n",
       "      <td>0</td>\n",
       "      <td>0</td>\n",
       "    </tr>\n",
       "    <tr>\n",
       "      <th>2010-01-02 03:00:00</th>\n",
       "      <td>181.0</td>\n",
       "      <td>-7</td>\n",
       "      <td>-5.0</td>\n",
       "      <td>1022.0</td>\n",
       "      <td>SE</td>\n",
       "      <td>5.36</td>\n",
       "      <td>1</td>\n",
       "      <td>0</td>\n",
       "    </tr>\n",
       "    <tr>\n",
       "      <th>2010-01-02 04:00:00</th>\n",
       "      <td>138.0</td>\n",
       "      <td>-7</td>\n",
       "      <td>-5.0</td>\n",
       "      <td>1022.0</td>\n",
       "      <td>SE</td>\n",
       "      <td>6.25</td>\n",
       "      <td>2</td>\n",
       "      <td>0</td>\n",
       "    </tr>\n",
       "  </tbody>\n",
       "</table>\n",
       "</div>"
      ],
      "text/plain": [
       "                     pollution  dew  temp  pressure w_dir  w_speed  snow  rain\n",
       "2010-01-02 00:00:00      129.0  -16  -4.0    1020.0    SE     1.79     0     0\n",
       "2010-01-02 01:00:00      148.0  -15  -4.0    1020.0    SE     2.68     0     0\n",
       "2010-01-02 02:00:00      159.0  -11  -5.0    1021.0    SE     3.57     0     0\n",
       "2010-01-02 03:00:00      181.0   -7  -5.0    1022.0    SE     5.36     1     0\n",
       "2010-01-02 04:00:00      138.0   -7  -5.0    1022.0    SE     6.25     2     0"
      ]
     },
     "execution_count": 30,
     "metadata": {},
     "output_type": "execute_result"
    }
   ],
   "source": [
    "old_col_names = list(df.columns) # ['No', 'year', 'month', 'day', 'hour', 'pm2.5', 'DEWP', 'TEMP', 'PRES', 'cbwd', 'Iws', 'Is', 'Ir']\n",
    "\n",
    "new_col_names = ['pollution', 'dew', 'temp', 'pressure', 'w_dir', 'w_speed', 'snow', 'rain']\n",
    "\n",
    "df_clean = df.set_index(df[['year', 'month', 'day', 'hour']].apply(lambda row: datetime(*row), axis=1))\n",
    "df_clean.drop(columns=['year', 'month', 'day', 'hour', 'No'], axis=1, inplace=True, errors='ignore')\n",
    "df_clean.columns = new_col_names\n",
    "df_clean['pollution'].fillna(0, inplace=True)\n",
    "df_clean = df_clean[24:]\n",
    "df_clean.head()"
   ]
  },
  {
   "cell_type": "markdown",
   "metadata": {},
   "source": [
    "## Exploring Data"
   ]
  },
  {
   "cell_type": "code",
   "execution_count": 92,
   "metadata": {},
   "outputs": [
    {
     "data": {
      "image/png": "[encoded data removed]",
      "text/plain": [
       "<Figure size 1728x864 with 1 Axes>"
      ]
     },
     "metadata": {
      "needs_background": "light"
     },
     "output_type": "display_data"
    }
   ],
   "source": [
    "# Closer look at the first 10k samples\n",
    "plt.figure(figsize=(24, 12))\n",
    "plt.plot(df_clean['pollution'][:10000], label='pm2.5', alpha=0.8)\n",
    "plt.title('PM2.5 series data')\n",
    "plt.ylabel('Value')\n",
    "plt.legend()\n",
    "plt.show()"
   ]
  },
  {
   "cell_type": "markdown",
   "metadata": {},
   "source": [
    "By taking a look at the monthly averages for the pollution level we can see they are overall Moderate with some months at the beginning and the end of the year being Unhealthy for sensitive groups. However, these are just the averages, just by looking at the previous plot we can see some spikes above these levels and outliers that far exceed them. "
   ]
  },
  {
   "cell_type": "code",
   "execution_count": 91,
   "metadata": {},
   "outputs": [
    {
     "data": {
      "image/png": "[encoded data removed]",
      "text/plain": [
       "<Figure size 1728x864 with 1 Axes>"
      ]
     },
     "metadata": {
      "needs_background": "light"
     },
     "output_type": "display_data"
    }
   ],
   "source": [
    "monthly_avg = df_clean['pollution'].groupby(df_clean.index.month).mean()\n",
    "\n",
    "# Plot the monthly levels of pm2.5\n",
    "fig, ax = plt.subplots(figsize=(24, 12))\n",
    "plt.plot(monthly_avg.index, monthly_avg.values, marker='o', linestyle='-', linewidth=2.5)\n",
    "plt.title('Average monthly PM2.5 Levels', fontsize=16)\n",
    "plt.xlabel('Month')\n",
    "plt.ylabel('Average PM2.5')\n",
    "plt.grid()\n",
    "ax.set_ylim(70, 160)\n",
    "\n",
    "# Unhealthy [150-200]\n",
    "ax.axhspan(150, 160, color='purple', alpha=0.4)\n",
    "plt.text(11.5, 155, 'Unhealthy', fontsize=18, color='black', ha='center')\n",
    "\n",
    "# Unhealthy for sensitive groups [100-150]\n",
    "ax.axhspan(100, 150, color='lightcoral', alpha=0.5)\n",
    "plt.text(11.5, 140, 'Unhealthy for \\nsensitive groups', fontsize=18, color='black', ha='center')\n",
    "\n",
    "# Moderate [50-100]\n",
    "ax.axhspan(70, 100, color='yellow', alpha=0.5)\n",
    "plt.text(11.5, 82, 'Moderate', fontsize=18, color='black', ha='center')\n",
    "\n",
    "plt.xticks(range(1, 13), ['Jan', 'Feb', 'Mar', 'Apr', 'May', 'Jun', 'Jul', 'Aug', 'Sep', 'Oct', 'Nov', 'Dec'])\n",
    "plt.show()"
   ]
  },
  {
   "cell_type": "markdown",
   "metadata": {},
   "source": [
    "Wind speed and pollution seem to have the biggest standard deviation"
   ]
  },
  {
   "cell_type": "code",
   "execution_count": 7,
   "metadata": {},
   "outputs": [
    {
     "data": {
      "image/png": "[encoded data removed]",
      "text/plain": [
       "<Figure size 720x576 with 1 Axes>"
      ]
     },
     "metadata": {
      "needs_background": "light"
     },
     "output_type": "display_data"
    }
   ],
   "source": [
    "plt.figure(figsize=(10,8))\n",
    "df_clean.boxplot()\n",
    "plt.show()"
   ]
  },
  {
   "cell_type": "markdown",
   "metadata": {},
   "source": [
    "Wind speed is negatively correlated to pollution (-0.2) which seems logical since wind can cause pollution particles to disperse, however, there is no significant correlation between the remaining variables except for the expected dew-temp. This makes the problem more challenging for any statistical based approach. Lets use Deep Learning."
   ]
  },
  {
   "cell_type": "code",
   "execution_count": 8,
   "metadata": {},
   "outputs": [
    {
     "data": {
      "image/png": "[encoded data removed]",
      "text/plain": [
       "<Figure size 720x720 with 2 Axes>"
      ]
     },
     "metadata": {
      "needs_background": "light"
     },
     "output_type": "display_data"
    }
   ],
   "source": [
    "cor_cols = ['pollution', 'dew', 'w_speed', 'rain', 'snow', 'temp'] \n",
    "\n",
    "fig, ax = plt.subplots(figsize=(10,10))\n",
    "cax = ax.matshow(df_clean.loc[:, cor_cols].corr())\n",
    "plt.title('Correlation Matrix', fontsize=18)\n",
    "plt.xticks(range(len(cor_cols)), cor_cols)\n",
    "plt.yticks(range(len(cor_cols)), cor_cols)\n",
    "fig.colorbar(cax)\n",
    "plt.show()"
   ]
  },
  {
   "cell_type": "markdown",
   "metadata": {},
   "source": [
    "## Data Preprocessing"
   ]
  },
  {
   "cell_type": "code",
   "execution_count": 9,
   "metadata": {},
   "outputs": [],
   "source": [
    "# Encode categorical value\n",
    "encoder = LabelEncoder()\n",
    "df_clean['w_dir'] = encoder.fit_transform(df_clean['w_dir'])"
   ]
  },
  {
   "cell_type": "code",
   "execution_count": 10,
   "metadata": {},
   "outputs": [],
   "source": [
    "# Scale Dataset\n",
    "scaler = MinMaxScaler(feature_range=(0, 1))\n",
    "scaled_dataset = scaler.fit_transform(df_clean)"
   ]
  },
  {
   "cell_type": "code",
   "execution_count": 11,
   "metadata": {},
   "outputs": [
    {
     "name": "stdout",
     "output_type": "stream",
     "text": [
      "   pollution(t-1)  dew(t-1)  temp(t-1)  pressure(t-1)  w_dir(t-1)  \\\n",
      "1        0.129779  0.352941   0.245902       0.527273    0.666667   \n",
      "2        0.148893  0.367647   0.245902       0.527273    0.666667   \n",
      "3        0.159960  0.426471   0.229508       0.545455    0.666667   \n",
      "4        0.182093  0.485294   0.229508       0.563636    0.666667   \n",
      "5        0.138833  0.485294   0.229508       0.563636    0.666667   \n",
      "\n",
      "   w_speed(t-1)  snow(t-1)  rain(t-1)  pollution(t)  \n",
      "1      0.002290   0.000000        0.0      0.148893  \n",
      "2      0.003811   0.000000        0.0      0.159960  \n",
      "3      0.005332   0.000000        0.0      0.182093  \n",
      "4      0.008391   0.037037        0.0      0.138833  \n",
      "5      0.009912   0.074074        0.0      0.109658  \n"
     ]
    }
   ],
   "source": [
    "# Generate the sequences\n",
    "df = pd.DataFrame(scaled_dataset)\n",
    "cols = [] \n",
    "col_names = []\n",
    "\n",
    "n_in = 1 # No of lagged timesteps\n",
    "n_out = 1 # No of timesteps to forecast\n",
    "    \n",
    "n_vars = scaled_dataset.shape[1] # No of variables\n",
    "\n",
    "# generating lagged timesteps (t-n_in, ... t-1)\n",
    "for i in range(n_in, 0, -1):\n",
    "    cols.append(df.shift(i))\n",
    "    col_names += [('%s(t-%d)' % (new_col_names[j], i)) for j in range(n_vars)] \n",
    "\n",
    "# Lets forecast pollution values\n",
    "# generating timesteps to forecast (t, t+1, ... t+n_out-1)\n",
    "cols.append(df.shift(0))\n",
    "col_names += [('%s(t)' % new_col_names[j]) for j in range(n_vars)]\n",
    "\n",
    "for i in range(1, n_out):\n",
    "    cols.append(df.shift(-i))\n",
    "    col_names += [('%s(t+%d)' % (new_col_names[j], i)) for j in range(n_vars)]\n",
    "\n",
    "all_values = pd.concat(cols, axis=1)\n",
    "all_values.columns = col_names\n",
    "all_values.dropna(inplace=True)\n",
    "\n",
    "\n",
    "# Only forecasting one variable (pollution) next hour, so drop the rest\n",
    "ranges_to_drop = [((n_vars * n_in  + 1) + n_vars * (i-1), all_values.shape[1] - (n_out-i)*n_vars) for i in range(1, n_out+1)]\n",
    "columns_to_drop = [list(range(start, end)) for start, end in ranges_to_drop]\n",
    "columns_to_drop = [col_idx for sublist in columns_to_drop for col_idx in sublist]\n",
    "\n",
    "all_values.drop(all_values.columns[columns_to_drop], axis=1, inplace=True)\n",
    "print(all_values.head())"
   ]
  },
  {
   "cell_type": "code",
   "execution_count": 12,
   "metadata": {},
   "outputs": [
    {
     "name": "stdout",
     "output_type": "stream",
     "text": [
      "[[0.12977867 0.35294118 0.24590164 0.52727273 0.66666667 0.00229001\n",
      "  0.         0.        ]] 0.1488933601609658\n"
     ]
    }
   ],
   "source": [
    "# Arranging the data as sequences for training and prediction\n",
    "\n",
    "seq_len = 1  # sequence length or time step\n",
    "\n",
    "X = all_values.values[:,:-1] # All but pollution column\n",
    "y = all_values.values[:,-1] # Pollution column\n",
    "\n",
    "dataX = []\n",
    "dataY = []\n",
    "for i in range(0, len(y) - seq_len):\n",
    "    _x = X[i: i+seq_len]\n",
    "    _y = y[i: i+seq_len]\n",
    "    _y = _y[-1] # pick last one as the forecast target, next hour\n",
    "    dataX.append(_x)\n",
    "    dataY.append(_y)\n",
    "    \n",
    "print(dataX[0], dataY[0])"
   ]
  },
  {
   "cell_type": "code",
   "execution_count": 13,
   "metadata": {},
   "outputs": [
    {
     "name": "stdout",
     "output_type": "stream",
     "text": [
      "(35038, 1, 8) (35038,) (8760, 1, 8) (8760,)\n"
     ]
    }
   ],
   "source": [
    "# split into train and test sets\n",
    "n_train_hours = 365 * 24\n",
    "\n",
    "dataX = np.array(dataX)\n",
    "dataY = np.array(dataY)\n",
    "\n",
    "#3D [samples, timesteps, features]\n",
    "train_X, train_y = dataX[n_train_hours:], dataY[n_train_hours:]\n",
    "test_X, test_y = dataX[:n_train_hours], dataY[:n_train_hours]\n",
    "\n",
    "print(train_X.shape, train_y.shape, test_X.shape, test_y.shape)"
   ]
  },
  {
   "cell_type": "markdown",
   "metadata": {},
   "source": [
    "## Model Training & Evaluation"
   ]
  },
  {
   "cell_type": "code",
   "execution_count": 16,
   "metadata": {},
   "outputs": [
    {
     "name": "stdout",
     "output_type": "stream",
     "text": [
      "Epoch 1/8\n",
      "487/487 - 14s - loss: 0.0434 - val_loss: 0.0401 - 14s/epoch - 29ms/step\n",
      "Epoch 2/8\n",
      "487/487 - 5s - loss: 0.0197 - val_loss: 0.0225 - 5s/epoch - 10ms/step\n",
      "Epoch 3/8\n",
      "487/487 - 6s - loss: 0.0171 - val_loss: 0.0172 - 6s/epoch - 12ms/step\n",
      "Epoch 4/8\n",
      "487/487 - 5s - loss: 0.0161 - val_loss: 0.0171 - 5s/epoch - 10ms/step\n",
      "Epoch 5/8\n",
      "487/487 - 5s - loss: 0.0156 - val_loss: 0.0156 - 5s/epoch - 10ms/step\n",
      "Epoch 6/8\n",
      "487/487 - 6s - loss: 0.0154 - val_loss: 0.0168 - 6s/epoch - 12ms/step\n",
      "Epoch 7/8\n",
      "487/487 - 5s - loss: 0.0152 - val_loss: 0.0161 - 5s/epoch - 11ms/step\n",
      "Epoch 8/8\n",
      "487/487 - 4s - loss: 0.0150 - val_loss: 0.0158 - 4s/epoch - 8ms/step\n"
     ]
    },
    {
     "data": {
      "image/png": "[encoded data removed]",
      "text/plain": [
       "<Figure size 864x576 with 1 Axes>"
      ]
     },
     "metadata": {
      "needs_background": "light"
     },
     "output_type": "display_data"
    }
   ],
   "source": [
    "# Network design\n",
    "model = Sequential()\n",
    "model.add(LSTM(32, input_shape=(train_X.shape[1], train_X.shape[2]), return_sequences=True))\n",
    "model.add(Dropout(0.2))\n",
    "model.add(LSTM(16))\n",
    "model.add(Dense(1))\n",
    "model.compile(loss='mae', optimizer='adam')\n",
    "\n",
    "# Fitting Network\n",
    "history = model.fit(train_X, train_y, epochs=8, \n",
    "                    batch_size=72, validation_data=(test_X, test_y), verbose=2, shuffle=False)\n",
    "\n",
    "# Plotting learning curve\n",
    "plt.figure(figsize=(12,8))\n",
    "plt.plot(history.history['loss'], label='train')\n",
    "plt.plot(history.history['val_loss'], label='test')\n",
    "plt.xlabel('Epochs')\n",
    "plt.ylabel('Loss')\n",
    "plt.legend()\n",
    "plt.show()"
   ]
  },
  {
   "cell_type": "code",
   "execution_count": 17,
   "metadata": {},
   "outputs": [
    {
     "name": "stdout",
     "output_type": "stream",
     "text": [
      "274/274 [==============================] - 4s 6ms/step\n",
      "Test MAE: 0.01582437296388811\n",
      "Test RMSE: 0.031007228096909853\n",
      "Test R2: 0.8899046296112121\n"
     ]
    }
   ],
   "source": [
    "test_predictions = model.predict(test_X)\n",
    "\n",
    "mae = mean_absolute_error(test_y, test_predictions)\n",
    "mse = mean_squared_error(test_y, test_predictions)\n",
    "rmse = math.sqrt(mse)\n",
    "r2 = r2_score(test_y, test_predictions)\n",
    "\n",
    "print(f'Test MAE: {mae}')\n",
    "print(f'Test RMSE: {rmse}')\n",
    "print(f'Test R2: {r2}')"
   ]
  },
  {
   "cell_type": "code",
   "execution_count": 18,
   "metadata": {},
   "outputs": [
    {
     "name": "stdout",
     "output_type": "stream",
     "text": [
      "Test MAE: 15.729426726104784\n",
      "Test RMSE: 30.821184728328394\n"
     ]
    }
   ],
   "source": [
    "# Unscaling metrics\n",
    "pm_range = df_clean['pollution'].max() - df_clean['pollution'].min()\n",
    "unscaled_mae = mae * pm_range\n",
    "unscaled_rmse = rmse * pm_range\n",
    "\n",
    "print(f'Test MAE: {unscaled_mae}')\n",
    "print(f'Test RMSE: {unscaled_rmse}')"
   ]
  },
  {
   "cell_type": "code",
   "execution_count": 22,
   "metadata": {},
   "outputs": [
    {
     "data": {
      "text/plain": [
       "count    43800.000000\n",
       "mean        94.013516\n",
       "std         92.252276\n",
       "min          0.000000\n",
       "25%         24.000000\n",
       "50%         68.000000\n",
       "75%        132.250000\n",
       "max        994.000000\n",
       "Name: pollution, dtype: float64"
      ]
     },
     "execution_count": 22,
     "metadata": {},
     "output_type": "execute_result"
    }
   ],
   "source": [
    "df_clean['pollution'].describe()"
   ]
  },
  {
   "cell_type": "markdown",
   "metadata": {},
   "source": [
    "Model's results are okay, the predicted values seem to follow the series distribution accurately with a R2 score of 0.89, an average absolute error of 15.72 and a higher root mean squared error of 30.82 which is to be expected given the nature of the time series (its spikes and outliers) and that this metric penalizes larger errors more. We could further attempt to optimize the network design however, this simple design seems to be providing a good enough performance to confidently provide accurate predictions on which AQI Category the pm2.5 level will fall, and complicating it with the risk of overfitting and adding unnecesary parameters might not be worth the squeeze."
   ]
  },
  {
   "cell_type": "code",
   "execution_count": 20,
   "metadata": {},
   "outputs": [
    {
     "data": {
      "image/png": "[encoded data removed]",
      "text/plain": [
       "<Figure size 1008x576 with 1 Axes>"
      ]
     },
     "metadata": {
      "needs_background": "light"
     },
     "output_type": "display_data"
    }
   ],
   "source": [
    "# Plot of model's predictions Vs true values\n",
    "plt.figure(figsize=(14,8))\n",
    "plt.plot(test_predictions[:200]*pm_range, label='Predicted Values')\n",
    "plt.plot(test_y[:200]*pm_range, label='True Values')\n",
    "plt.title('Model Predictions Vs True Values')\n",
    "plt.legend()\n",
    "plt.grid()\n",
    "plt.show()"
   ]
  }
 ],
 "metadata": {
  "kernelspec": {
   "display_name": "ml",
   "language": "python",
   "name": "python3"
  },
  "language_info": {
   "codemirror_mode": {
    "name": "ipython",
    "version": 3
   },
   "file_extension": ".py",
   "mimetype": "text/x-python",
   "name": "python",
   "nbconvert_exporter": "python",
   "pygments_lexer": "ipython3",
   "version": "3.10.4"
  }
 },
 "nbformat": 4,
 "nbformat_minor": 2
}
